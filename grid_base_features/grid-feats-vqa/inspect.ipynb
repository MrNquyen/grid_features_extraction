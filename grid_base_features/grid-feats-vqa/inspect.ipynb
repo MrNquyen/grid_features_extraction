{
 "cells": [
  {
   "cell_type": "code",
   "execution_count": 8,
   "metadata": {},
   "outputs": [],
   "source": [
    "import torch\n",
    "path = \"F:\\\\UNIVERSITY\\\\NCKH\\\\NCKH_V2\\\\code\\\\feature_extraction\\\\grid_base_features\\\\grid-feats-vqa\\\\output\\\\features\\\\0001910.pth\"\n",
    "a = torch.load(path)"
   ]
  },
  {
   "cell_type": "code",
   "execution_count": 14,
   "metadata": {},
   "outputs": [
    {
     "data": {
      "text/plain": [
       "1238361"
      ]
     },
     "execution_count": 14,
     "metadata": {},
     "output_type": "execute_result"
    }
   ],
   "source": [
    "\n",
    "import numpy as np\n",
    "len(np.unique(a.flatten()))"
   ]
  },
  {
   "cell_type": "code",
   "execution_count": 1,
   "metadata": {},
   "outputs": [
    {
     "data": {
      "text/plain": [
       "761"
      ]
     },
     "execution_count": 1,
     "metadata": {},
     "output_type": "execute_result"
    }
   ],
   "source": [
    "import os\n",
    "save_dir = \"F:\\\\UNIVERSITY\\\\NCKH\\\\NCKH_V2\\\\code\\\\feature_extraction\\\\grid_base_features\\\\grid-feats-vqa\\\\output\\\\features\"\n",
    "len(os.listdir(save_dir))"
   ]
  }
 ],
 "metadata": {
  "kernelspec": {
   "display_name": "Python 3",
   "language": "python",
   "name": "python3"
  },
  "language_info": {
   "codemirror_mode": {
    "name": "ipython",
    "version": 3
   },
   "file_extension": ".py",
   "mimetype": "text/x-python",
   "name": "python",
   "nbconvert_exporter": "python",
   "pygments_lexer": "ipython3",
   "version": "3.12.1"
  }
 },
 "nbformat": 4,
 "nbformat_minor": 2
}
